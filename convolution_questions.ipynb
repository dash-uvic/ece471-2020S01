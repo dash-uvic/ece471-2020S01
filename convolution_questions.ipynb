{
 "cells": [
  {
   "cell_type": "markdown",
   "metadata": {},
   "source": [
    "Two questions were asked last lecture that I felt deserved a more thorough (and better) response:\n",
    "\n",
    "**Question 1:** \n",
    "Does the padding affect the convolution, because if we convolve two kernels together we get a smaller output without padding.  But the math doesn't take padding into account?\n",
    "\n",
    "Theoretical:\n",
    "Convolution theorem states that convolution is always:\n",
    "\n",
    "Commutative: $x_1 (t) * x_2 (t) = x_2 (t) * x_1 (t)$\n",
    "Associative: $x_1 (t) * [x_2 (t) * x_3 (t) ] = [x_1 (t) * x_2 (t)] * x_3 (t)$\n",
    "\n",
    "The proof assumes that the signal domain (1D or 2D) is an infinite space.  So does padding make a difference?  No, if you consider the padding as part of the infinite space.  In that scenario, the input signal signal does not change as the padding is as long as the **padding is the same for ALL the kernel(s) and image.**"
   ]
  },
  {
   "cell_type": "code",
   "execution_count": 1,
   "metadata": {},
   "outputs": [
    {
     "name": "stdout",
     "output_type": "stream",
     "text": [
      "k1 * k2 = \n",
      "[[0.0625 0.125  0.0625]\n",
      " [0.125  0.25   0.125 ]\n",
      " [0.0625 0.125  0.0625]]\n"
     ]
    }
   ],
   "source": [
    "# Import libraries required to do operations like convolution, gaussian blur, sobel operator, pixel manipulation, etc.\n",
    "import cv2\n",
    "import numpy as np\n",
    "import matplotlib.pyplot as plt\n",
    "plt.rcParams[\"figure.figsize\"] = (40,10)\n",
    "\n",
    "#Simple case where we have an \"image\" on one pixel\n",
    "I = np.array([[100]], dtype=np.uint8)\n",
    "\n",
    "#Approximate Gaussian Kernel\n",
    "k1 = np.array([[1,2,1],\n",
    "               [2,4,2],\n",
    "               [1,2,1]]) * 1/16\n",
    "\n",
    "#Unit kernel\n",
    "alpha = 1.\n",
    "k2 = np.array([[0,0,0],\n",
    "               [0,1,0],\n",
    "               [0,0,0]]) * alpha\n",
    "\n",
    "#Perform the convolution, don't need to rotate 180 because our kernels are symmetric\n",
    "#But if we did you can do: np.flipud(np.fliplr(k2))\n",
    "k = cv2.filter2D(k1, -1, k2, borderType=cv2.BORDER_CONSTANT) #BORDER_CONSTANT will pad with 0 by default\n",
    "print(f\"k1 * k2 = \\n{k}\")"
   ]
  },
  {
   "cell_type": "code",
   "execution_count": 2,
   "metadata": {},
   "outputs": [
    {
     "name": "stdout",
     "output_type": "stream",
     "text": [
      "Image * k: [[25]]\n",
      "Image * k1 * k2 = [[25]]\n",
      "Differences: 0\n"
     ]
    }
   ],
   "source": [
    "#Apply the k1 * k2 to I\n",
    "I_p = cv2.filter2D(I, -1, k, borderType=cv2.BORDER_CONSTANT)\n",
    "\n",
    "#Perform (I*k1) * k2\n",
    "I_x = cv2.filter2D(cv2.filter2D(I, -1, k1, borderType=cv2.BORDER_CONSTANT), -1, k2, borderType=cv2.BORDER_CONSTANT)\n",
    "\n",
    "#Check if there are any differences in the output\n",
    "I_diff = I_p - I_x\n",
    "print(f\"Image * k: {I_p}\")\n",
    "print(f\"Image * k1 * k2 = {I_x}\")\n",
    "print(f\"Differences: {np.sum(I_diff)}\") #Nope!"
   ]
  },
  {
   "cell_type": "markdown",
   "metadata": {},
   "source": [
    "**Counter proof:** What happens when we change the padding on the Image I, therefore, breaking the commonality of the infinite space (i.e. padding)."
   ]
  },
  {
   "cell_type": "code",
   "execution_count": 3,
   "metadata": {},
   "outputs": [
    {
     "name": "stdout",
     "output_type": "stream",
     "text": [
      "Image * k: [[100]]\n",
      "Image * k1 * k2 = [[25]]\n",
      "Differences: 75\n"
     ]
    }
   ],
   "source": [
    "#Apply the k1 * k2 to I\n",
    "I_p = cv2.filter2D(I, -1, k, borderType=cv2.BORDER_REFLECT)\n",
    "#Check if there are any differences in the output\n",
    "I_diff = I_p - I_x\n",
    "print(f\"Image * k: {I_p}\")\n",
    "print(f\"Image * k1 * k2 = {I_x}\")\n",
    "print(f\"Differences: {np.sum(I_diff)}\") #Yup!"
   ]
  },
  {
   "cell_type": "markdown",
   "metadata": {},
   "source": [
    "**Question 2:**\n",
    "When two different Gaussian kernels, $G_{\\sigma_1}$ , $G_{\\sigma_2}$ are convolved, the result is also a Gaussian $G_{\\sigma_1 + \\sigma_2}$.  This is because the Fourier transform of a Gaussian is always a Gaussian and the Fourier transform of convolution product equal to the pointwise product of the Fourier transforms.\n",
    "\n",
    "i.e. The convolution for $g * h$ is equivalent to the pointwise multiplication of their Fourier transformed signals $G(f) \\cdot H(f)$\n",
    "\n",
    "Now, with Gaussian kernels we assume origin (0,0) is at the center pixel (i.e. $\\mu$ is 0).  **NOTE:** In most cases, the origin is the upper-left.  So if we move the kernel that should be the equivallent of changing $mu$.  That means, the resultant should be a Gaussian."
   ]
  },
  {
   "cell_type": "code",
   "execution_count": 4,
   "metadata": {},
   "outputs": [
    {
     "data": {
      "image/png": "[encoded data removed]",
      "text/plain": [
       "<Figure size 432x288 with 1 Axes>"
      ]
     },
     "metadata": {
      "needs_background": "light"
     },
     "output_type": "display_data"
    },
    {
     "data": {
      "image/png": "[encoded data removed]",
      "text/plain": [
       "<Figure size 432x288 with 1 Axes>"
      ]
     },
     "metadata": {
      "needs_background": "light"
     },
     "output_type": "display_data"
    },
    {
     "name": "stdout",
     "output_type": "stream",
     "text": [
      "0.9940524285918735\n"
     ]
    },
    {
     "data": {
      "image/png": "[encoded data removed]",
      "text/plain": [
       "<Figure size 432x288 with 1 Axes>"
      ]
     },
     "metadata": {
      "needs_background": "light"
     },
     "output_type": "display_data"
    }
   ],
   "source": [
    "#This function returns a 1D kernel (because Gaussian kernsl are seperable), so do outer product to get 2D kernel\n",
    "k1 = cv2.getGaussianKernel(32, 2)\n",
    "k1 = k1 * k1.T\n",
    "k2X = cv2.getGaussianKernel(11, 2) #To make a kernel with sigma difference in X,Y directions\n",
    "k2Y = cv2.getGaussianKernel(11, 3)\n",
    "k2 = k2X * k2Y.T\n",
    "\n",
    "\n",
    "k2 = cv2.copyMakeBorder(k2, top=(32-14),bottom=3,left=(32-14),right=3, borderType=cv2.BORDER_CONSTANT)\n",
    "\n",
    "plt.imshow(k1, cmap='gray')\n",
    "plt.show()\n",
    "plt.imshow(k2, cmap='gray')\n",
    "plt.show()\n",
    "\n",
    "#Rotate 180 degrees (flip horizontally and vertically)\n",
    "k2 = np.flipud(np.fliplr(k2))\n",
    "k = cv2.filter2D(k1, -1, k2, borderType=cv2.BORDER_CONSTANT) \n",
    "print(k.sum())\n",
    "plt.imshow(k, cmap='gray')\n",
    "plt.show()\n"
   ]
  },
  {
   "cell_type": "markdown",
   "metadata": {},
   "source": [
    "To further show why this works, let's look at the Discrete Fourier Transform (magnitude spectrum) to show that all the kernels are Gaussian in Fourier space. If we compare the DFT of the two kernels and do a pointwise convolution, we should get the DFT of the convolution of k1 and k2.\n",
    "\n",
    "\n",
    "$\\mathcal{F}\\lbrace f * g \\rbrace = \\mathcal{F}\\lbrace f \\rbrace \\cdot \\mathcal{F} \\lbrace g \\rbrace$, where\n",
    "$f$ is k1, $g$ is k2 and $\\mathcal{F}\\lbrace f * g \\rbrace$ is k."
   ]
  },
  {
   "cell_type": "code",
   "execution_count": 5,
   "metadata": {},
   "outputs": [
    {
     "data": {
      "image/png": "[encoded data removed]",
      "text/plain": [
       "<Figure size 432x288 with 1 Axes>"
      ]
     },
     "metadata": {
      "needs_background": "light"
     },
     "output_type": "display_data"
    },
    {
     "data": {
      "image/png": "[encoded data removed]",
      "text/plain": [
       "<Figure size 432x288 with 1 Axes>"
      ]
     },
     "metadata": {
      "needs_background": "light"
     },
     "output_type": "display_data"
    },
    {
     "data": {
      "image/png": "[encoded data removed]",
      "text/plain": [
       "<Figure size 432x288 with 1 Axes>"
      ]
     },
     "metadata": {
      "needs_background": "light"
     },
     "output_type": "display_data"
    },
    {
     "data": {
      "image/png": "[encoded data removed]",
      "text/plain": [
       "<Figure size 432x288 with 1 Axes>"
      ]
     },
     "metadata": {
      "needs_background": "light"
     },
     "output_type": "display_data"
    }
   ],
   "source": [
    "def magnitude(z):\n",
    "    return np.log(np.abs(z)+1)\n",
    "    \n",
    "fft_filters = [np.fft.fft2(x) for x in [k1,k2,k]] #Apply fourier transform\n",
    "fft_shift = [np.fft.fftshift(y) for y in fft_filters] #Bring the signals to the center\n",
    "mag_spectrum = [ magnitude(z) for z in fft_shift] #Calculate the magnitude spectrum from the frequency tranform for output\n",
    "\n",
    "#Perform the \n",
    "k_fft = np.multiply(*fft_filters[:2])\n",
    "k_fft_shifted = np.fft.fftshift(k_fft)\n",
    "k_mag = magnitude(k_fft_shifted)\n",
    "mag_spectrum.append(k_mag)\n",
    "\n",
    "\n",
    "for ms in mag_spectrum:\n",
    "    plt.imshow(ms, cmap='gray')\n",
    "    plt.show()\n"
   ]
  },
  {
   "cell_type": "code",
   "execution_count": 6,
   "metadata": {},
   "outputs": [
    {
     "name": "stdout",
     "output_type": "stream",
     "text": [
      "Is the result identical? 0.0\n"
     ]
    }
   ],
   "source": [
    "#Visually the last two look identical, but let's check quantatively\n",
    "compare = (k_mag - mag_spectrum[-1]).sum()\n",
    "print(f\"Is the result identical? {compare}\") #Yup :)\n"
   ]
  },
  {
   "cell_type": "code",
   "execution_count": null,
   "metadata": {},
   "outputs": [],
   "source": []
  }
 ],
 "metadata": {
  "kernelspec": {
   "display_name": "Python 3",
   "language": "python",
   "name": "python3"
  },
  "language_info": {
   "codemirror_mode": {
    "name": "ipython",
    "version": 3
   },
   "file_extension": ".py",
   "mimetype": "text/x-python",
   "name": "python",
   "nbconvert_exporter": "python",
   "pygments_lexer": "ipython3",
   "version": "3.6.7"
  }
 },
 "nbformat": 4,
 "nbformat_minor": 2
}
