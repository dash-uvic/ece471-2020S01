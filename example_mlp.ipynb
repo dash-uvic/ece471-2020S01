{
 "cells": [
  {
   "cell_type": "code",
   "execution_count": 1,
   "metadata": {},
   "outputs": [],
   "source": [
    "#This code is modified from the source here: https://github.com/rcassani/mlp-example/blob/master/mlp_examples.ipynb\n",
    "#Download the MNIST dataset here: https://storage.googleapis.com/tensorflow/tf-keras-datasets/mnist.npz\n",
    "\n",
    "import numpy as np\n",
    "import time\n",
    "import matplotlib.pyplot as plt\n",
    "from tqdm import tqdm\n",
    "\n",
    "#MNIST dataset which consists of 28x28 grayscale images of 0-9 digits\n",
    "def load_data(path):\n",
    "    with np.load(path) as f:\n",
    "        x_train, y_train = f['x_train'], f['y_train']\n",
    "        x_test, y_test = f['x_test'], f['y_test']\n",
    "        return (x_train, y_train), (x_test, y_test)\n",
    "\n",
    "# Useful functions\n",
    "def initalize_weights_relu(size_layer, size_next_layer):\n",
    "    np.random.seed(5)\n",
    "    # Method presented in \"Delving Deep into Rectifiers: Surpassing Human-Level Performance on ImageNet Classfication\"\n",
    "    # He et Al. 2015\n",
    "    epsilon = np.sqrt(2.0 / (size_layer * size_next_layer) )\n",
    "    # Weigts from Normal distribution mean = 0, std = epsion\n",
    "    w = epsilon * (np.random.randn(size_next_layer, size_layer))\n",
    "    return w.transpose()"
   ]
  },
  {
   "cell_type": "markdown",
   "metadata": {},
   "source": [
    "## Parameters of MLP\n",
    "* __Epochs: 400\n",
    "* __Number of layers__ : 3 (input, hidden1, output)\n",
    "* __Elements in layers__ : [784, 100, 10]   \n",
    "* __Activation function__ : Rectified Linear function\n",
    "* __Regularization parameter__ : 0\n",
    "* __Bias element added in input layers__ : False"
   ]
  },
  {
   "cell_type": "code",
   "execution_count": 2,
   "metadata": {},
   "outputs": [
    {
     "name": "stderr",
     "output_type": "stream",
     "text": [
      "\r",
      "  0%|          | 0/20 [00:00<?, ?it/s]"
     ]
    },
    {
     "name": "stdout",
     "output_type": "stream",
     "text": [
      "(60000, 784) (60000,)\n"
     ]
    },
    {
     "name": "stderr",
     "output_type": "stream",
     "text": [
      "                                                                                  \r"
     ]
    },
    {
     "name": "stdout",
     "output_type": "stream",
     "text": [
      "27.233888387680054 s\n",
      "Training Accuracy: 90.0\n"
     ]
    },
    {
     "data": {
      "image/png": "[encoded data removed]",
      "text/plain": [
       "<Figure size 432x288 with 1 Axes>"
      ]
     },
     "metadata": {
      "needs_background": "light"
     },
     "output_type": "display_data"
    },
    {
     "data": {
      "image/png": "[encoded data removed]",
      "text/plain": [
       "<Figure size 432x288 with 1 Axes>"
      ]
     },
     "metadata": {
      "needs_background": "light"
     },
     "output_type": "display_data"
    }
   ],
   "source": [
    "# Load data\n",
    "#X, Y, labels, y = load_mnist()\n",
    "(x_train, y_train), (x_test, y_test) = load_data('mnist.npz')\n",
    "\n",
    "#Flatten the image to 784\n",
    "x_train = x_train.reshape(-1, 784)\n",
    "x_test = x_test.reshape(-1, 784)\n",
    "print(x_train.shape, y_train.shape)\n",
    "\n",
    "#Convert the labels to one_hot encoding\n",
    "one_hot = np.zeros((len(y_train), 10), dtype=np.uint8)\n",
    "one_hot[np.arange(len(y_train)), y_train] = 1\n",
    "y_train = one_hot\n",
    "\n",
    "tic = time.time()\n",
    "\n",
    "# size_layers = [784, 100, 10]\n",
    "\n",
    "#Network design:\n",
    "\"\"\"\n",
    "28x28 image flattened to 784\n",
    "Dense fully connect hidden layer\n",
    "   Input: 784   Output: 100\n",
    "   ReLu\n",
    "Dense fully connected output layer\n",
    "   Input: 100   Output: 10\n",
    "   ReLU \n",
    "\"\"\"\n",
    "\n",
    "def relu(x):\n",
    "    return np.maximum(x, 0)\n",
    "\n",
    "def relu_derivative(x, w):\n",
    "    z = np.dot(x,w)\n",
    "    return 1 * (z > 0) \n",
    "\n",
    "def dense_layer(x, w):\n",
    "    h = x.dot(w) #hidden layer h = Wx\n",
    "    h = relu(h) #relu activation function\n",
    "    return h\n",
    "\n",
    "def mse_loss(y_hat, y):\n",
    "    loss = np.square(y_hat - y).mean()\n",
    "    return loss\n",
    "    \n",
    "# Randomly initialize weights\n",
    "w1 = initalize_weights_relu(784, 100)  \n",
    "w2 = initalize_weights_relu(100, 10)\n",
    "\n",
    "epochs = 20\n",
    "losses = np.zeros((epochs), dtype=np.float32)\n",
    "accs = np.zeros((epochs), dtype=np.float32)\n",
    "\n",
    "t = tqdm(range(epochs), leave=False, total=epochs)\n",
    "for ix in t:   \n",
    "    # Forward pass: compute y_hat    \n",
    "    h1 = dense_layer(x_train, w1)\n",
    "    y_hat = dense_layer(h1, w2) #Ideally, this would be softmax instead\n",
    "        \n",
    "    # Compute loss\n",
    "    loss = mse_loss(y_hat, y_train)\n",
    "    acc = np.mean(1 * (y_hat == y_train))    \n",
    "    \n",
    "    #Backpropagation\n",
    "    grad2 = np.dot(h1.T, (y_hat - y_train) * relu_derivative(h1, w2))\n",
    "    grad1 = np.dot(x_train.T, np.dot((y_hat - y_train) * relu_derivative(h1, w2), \\\n",
    "                                      w2.T) * relu_derivative(x_train, w1))  \n",
    "    \n",
    "    # Update weights\n",
    "    w1 = w1 - grad1\n",
    "    w2 = w2 - grad2\n",
    "\n",
    "    #Track the loss\n",
    "    losses[ix] = loss\n",
    "    accs[ix] = acc\n",
    "    \n",
    "    if ix % 5 == 0:\n",
    "        t.set_description(f\"[Epoch {ix}] loss={loss:.4f}  acc={acc*100:.2f}\")\n",
    "    \n",
    "print(str(time.time() - tic) + ' s')\n",
    "    \n",
    "# Ploting loss vs epochs\n",
    "plt.figure()\n",
    "ix = np.arange(epochs)\n",
    "plt.plot(ix, losses)\n",
    "\n",
    "# Ploting acc vs epochs\n",
    "plt.figure()\n",
    "ix = np.arange(epochs)\n",
    "plt.plot(ix, accs)\n",
    "\n",
    "\n",
    "# Training Accuracy\n",
    "acc = np.mean(1 * (y_hat == y_train))\n",
    "print('Training Accuracy: ' + str(acc*100))"
   ]
  },
  {
   "cell_type": "code",
   "execution_count": null,
   "metadata": {},
   "outputs": [],
   "source": []
  }
 ],
 "metadata": {
  "kernelspec": {
   "display_name": "Python 3",
   "language": "python",
   "name": "python3"
  },
  "language_info": {
   "codemirror_mode": {
    "name": "ipython",
    "version": 3
   },
   "file_extension": ".py",
   "mimetype": "text/x-python",
   "name": "python",
   "nbconvert_exporter": "python",
   "pygments_lexer": "ipython3",
   "version": "3.6.7"
  }
 },
 "nbformat": 4,
 "nbformat_minor": 2
}
