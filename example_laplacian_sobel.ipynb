{
 "cells": [
  {
   "cell_type": "markdown",
   "metadata": {},
   "source": [
    "Looking at the magnitude spectrums of the Gaussian and it's derivatives, we can see the different signal filtering each will perform."
   ]
  },
  {
   "cell_type": "code",
   "execution_count": 1,
   "metadata": {},
   "outputs": [
    {
     "data": {
      "text/plain": [
       "<Figure size 640x480 with 4 Axes>"
      ]
     },
     "metadata": {},
     "output_type": "display_data"
    }
   ],
   "source": [
    "#Original source: https://opencv-python-tutroals.readthedocs.io/en/latest/py_tutorials/py_imgproc/py_transforms/py_fourier_transform/py_fourier_transform.html\n",
    "\n",
    "import numpy as np\n",
    "import cv2\n",
    "from matplotlib import pyplot as plt\n",
    "#plt.rcParams[\"figure.figsize\"] = (100,100)\n",
    "\n",
    "# creating a guassian filter\n",
    "x = cv2.getGaussianKernel(5,10)\n",
    "gaussian = x*x.T\n",
    "\n",
    "# sobel in x direction (approximation of first-order derivative of Gaussian)\n",
    "sobel_x= np.array([[-1, 0, 1],\n",
    "                   [-2, 0, 2],\n",
    "                   [-1, 0, 1]])\n",
    "# sobel in y direction (approximation of first-order derivative of Gaussian)\n",
    "sobel_y= np.array([[-1,-2,-1],\n",
    "                   [0, 0, 0],\n",
    "                   [1, 2, 1]])\n",
    "\n",
    "# laplacian (approximation of second-order derivative of Gaussian)\n",
    "laplacian=np.array([[0, 1, 0],\n",
    "                    [1,-4, 1],\n",
    "                    [0, 1, 0]])\n",
    "\n",
    "filters = [gaussian, laplacian, sobel_x, sobel_y]\n",
    "filter_name = ['gaussian', 'laplacian', 'sobel_x','sobel_y']\n",
    "fft_filters = [np.fft.fft2(x) for x in filters]\n",
    "fft_shift = [np.fft.fftshift(y) for y in fft_filters]\n",
    "mag_spectrum = [np.log(np.abs(z)+1) for z in fft_shift]\n",
    "\n",
    "for i in range(len(filters)):\n",
    "    plt.subplot(2,2,i+1),plt.imshow(cv2.resize(mag_spectrum[i], dsize=(32,32)),cmap = 'gray')\n",
    "    plt.title(filter_name[i]), plt.xticks([]), plt.yticks([])\n",
    "\n",
    "plt.show()"
   ]
  },
  {
   "cell_type": "markdown",
   "metadata": {},
   "source": [
    "So let's look at a simple examples of how the Sobel and Laplacian operator works."
   ]
  },
  {
   "cell_type": "code",
   "execution_count": 2,
   "metadata": {},
   "outputs": [],
   "source": [
    "#Note: Matplotlib will normalize the output, i.e X' = (X - X_min) / (X_max - X_min) to get the values between 0-1\n",
    "def show_grads(H,Hx,Hy,Hxy):\n",
    "    plt.subplot(2,2,1),plt.imshow(H,cmap = 'gray')\n",
    "    plt.title('H'), plt.xticks([]), plt.yticks([])\n",
    "    plt.subplot(2,2,2),plt.imshow(Hx,cmap = 'gray')\n",
    "    plt.title('Hx'), plt.xticks([]), plt.yticks([])\n",
    "    plt.subplot(2,2,3),plt.imshow(Hy,cmap = 'gray')\n",
    "    plt.title('Hy'), plt.xticks([]), plt.yticks([])\n",
    "    plt.subplot(2,2,4),plt.imshow(Hxy,cmap = 'gray')\n",
    "    plt.title('Hxy'), plt.xticks([]), plt.yticks([])\n",
    "    plt.show()\n",
    "\n",
    "\n"
   ]
  },
  {
   "cell_type": "markdown",
   "metadata": {},
   "source": [
    "What happens with "
   ]
  },
  {
   "cell_type": "code",
   "execution_count": 3,
   "metadata": {},
   "outputs": [
    {
     "name": "stdout",
     "output_type": "stream",
     "text": [
      "[[0. 0. 1. 0. 0. 0.]\n",
      " [0. 0. 1. 0. 0. 0.]\n",
      " [0. 0. 1. 0. 0. 0.]\n",
      " [0. 0. 1. 0. 0. 0.]\n",
      " [0. 0. 1. 0. 0. 0.]]\n",
      "[[ 0. -4.  0.  4.  0.  0.]\n",
      " [ 0. -4.  0.  4.  0.  0.]\n",
      " [ 0. -4.  0.  4.  0.  0.]\n",
      " [ 0. -4.  0.  4.  0.  0.]\n",
      " [ 0. -4.  0.  4.  0.  0.]]\n",
      "[[ 0.  1. -2.  1.  0.  0.]\n",
      " [ 0.  1. -2.  1.  0.  0.]\n",
      " [ 0.  1. -2.  1.  0.  0.]\n",
      " [ 0.  1. -2.  1.  0.  0.]\n",
      " [ 0.  1. -2.  1.  0.  0.]]\n"
     ]
    },
    {
     "data": {
      "image/png": "[encoded data removed]",
      "text/plain": [
       "<Figure size 432x288 with 4 Axes>"
      ]
     },
     "metadata": {},
     "output_type": "display_data"
    }
   ],
   "source": [
    "H = np.zeros((5,6))\n",
    "H[:,2:3] = 1 #Have a 1px edge.  \n",
    "\n",
    "Hx = cv2.filter2D(H, -1, np.flipud(np.fliplr(sobel_x))) \n",
    "Hy = cv2.filter2D(H, -1, np.flipud(np.fliplr(sobel_y))) \n",
    "Hxy = cv2.filter2D(H, -1, np.flipud(np.fliplr(laplacian))) \n",
    "\n",
    "print(H)\n",
    "print(Hx)\n",
    "print(Hxy)\n",
    "show_grads(H,Hx,Hy,Hxy)"
   ]
  },
  {
   "cell_type": "code",
   "execution_count": 4,
   "metadata": {},
   "outputs": [
    {
     "data": {
      "image/png": "[encoded data removed]",
      "text/plain": [
       "<Figure size 432x288 with 4 Axes>"
      ]
     },
     "metadata": {},
     "output_type": "display_data"
    }
   ],
   "source": [
    "H = np.zeros((50,50))\n",
    "H[:25, :] = 128\n",
    "\n",
    "\n",
    "Hx = cv2.filter2D(H, -1, np.flipud(np.fliplr(sobel_x))) \n",
    "Hy = cv2.filter2D(H, -1, np.flipud(np.fliplr(sobel_y))) \n",
    "Hxy = cv2.filter2D(H, -1, np.flipud(np.fliplr(laplacian))) \n",
    "\n",
    "\n",
    "show_grads(H,Hx,Hy,Hxy)\n"
   ]
  },
  {
   "cell_type": "code",
   "execution_count": 5,
   "metadata": {},
   "outputs": [
    {
     "data": {
      "image/png": "[encoded data removed]",
      "text/plain": [
       "<Figure size 432x288 with 4 Axes>"
      ]
     },
     "metadata": {},
     "output_type": "display_data"
    }
   ],
   "source": [
    "H = np.zeros((50,50))\n",
    "H[:, :25] = 255\n",
    "\n",
    "\n",
    "Hx = cv2.filter2D(H, -1, np.flipud(np.fliplr(sobel_x))) \n",
    "Hy = cv2.filter2D(H, -1, np.flipud(np.fliplr(sobel_y))) \n",
    "Hxy = cv2.filter2D(H, -1, np.flipud(np.fliplr(laplacian))) \n",
    "\n",
    "\n",
    "show_grads(H,Hx,Hy,Hxy)"
   ]
  },
  {
   "cell_type": "code",
   "execution_count": null,
   "metadata": {},
   "outputs": [],
   "source": []
  }
 ],
 "metadata": {
  "kernelspec": {
   "display_name": "Python 3",
   "language": "python",
   "name": "python3"
  },
  "language_info": {
   "codemirror_mode": {
    "name": "ipython",
    "version": 3
   },
   "file_extension": ".py",
   "mimetype": "text/x-python",
   "name": "python",
   "nbconvert_exporter": "python",
   "pygments_lexer": "ipython3",
   "version": "3.6.7"
  }
 },
 "nbformat": 4,
 "nbformat_minor": 2
}
